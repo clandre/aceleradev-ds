{
  "nbformat": 4,
  "nbformat_minor": 0,
  "metadata": {
    "colab": {
      "name": "Desafio Codenation.ipynb",
      "provenance": [],
      "collapsed_sections": []
    },
    "kernelspec": {
      "name": "python3",
      "display_name": "Python 3"
    }
  },
  "cells": [
    {
      "cell_type": "markdown",
      "metadata": {
        "id": "f8Aefk1wNjtI",
        "colab_type": "text"
      },
      "source": [
        "### Importação das bibliotecas"
      ]
    },
    {
      "cell_type": "code",
      "metadata": {
        "id": "gx6Ahnjx_CQ7",
        "colab_type": "code",
        "colab": {}
      },
      "source": [
        "import numpy as np\n",
        "import pandas as pd\n",
        "import matplotlib.pyplot as plt\n",
        "from sklearn.linear_model import LinearRegression\n",
        "from sklearn import preprocessing\n",
        "from sklearn.model_selection import train_test_split\n",
        "from xgboost import XGBRegressor"
      ],
      "execution_count": null,
      "outputs": []
    },
    {
      "cell_type": "markdown",
      "metadata": {
        "id": "AUSgvjXlA5zX",
        "colab_type": "text"
      },
      "source": [
        "### Carregamento dos arquivos"
      ]
    },
    {
      "cell_type": "code",
      "metadata": {
        "id": "bZpaO7I1AuWt",
        "colab_type": "code",
        "colab": {}
      },
      "source": [
        "train = pd.read_csv(\"train.csv\")\n",
        "test = pd.read_csv(\"test.csv\")"
      ],
      "execution_count": null,
      "outputs": []
    },
    {
      "cell_type": "markdown",
      "metadata": {
        "id": "nwTCGaKfT-3O",
        "colab_type": "text"
      },
      "source": [
        "### Criação do DataFrame de saída"
      ]
    },
    {
      "cell_type": "code",
      "metadata": {
        "id": "TQSkw9z8T9bD",
        "colab_type": "code",
        "colab": {}
      },
      "source": [
        "resp = pd.DataFrame(columns=[\"NU_INSCRICAO\", \"NU_NOTA_MT\"])\n",
        "resp[\"NU_INSCRICAO\"] = test[\"NU_INSCRICAO\"]"
      ],
      "execution_count": null,
      "outputs": []
    },
    {
      "cell_type": "markdown",
      "metadata": {
        "id": "Mfanf07vBKIW",
        "colab_type": "text"
      },
      "source": [
        "### Seleção dos atributos mais \"importantes\""
      ]
    },
    {
      "cell_type": "code",
      "metadata": {
        "id": "1Rp_0UdKBMPf",
        "colab_type": "code",
        "colab": {}
      },
      "source": [
        "novos = [ 'NU_NOTA_COMP1', 'NU_NOTA_COMP2', 'NU_NOTA_COMP4', 'NU_NOTA_COMP5', 'NU_NOTA_COMP3', 'NU_NOTA_REDACAO', 'NU_NOTA_LC', 'NU_NOTA_CH', 'NU_NOTA_CN',]\n",
        "attributes_1 = [\"NU_IDADE\", \"TP_ST_CONCLUSAO\", \"TP_ANO_CONCLUIU\", \"TP_ESCOLA\", \"TP_ENSINO\", \"NU_NOTA_MT\"] + novos\n",
        "attributes_2 = [\"NU_IDADE\", \"TP_ST_CONCLUSAO\", \"TP_ANO_CONCLUIU\", \"TP_ESCOLA\", \"TP_ENSINO\"] + novos\n",
        "\n",
        "# Seleção das colunas\n",
        "train = train[attributes_1]\n",
        "test = test[attributes_2]"
      ],
      "execution_count": null,
      "outputs": []
    },
    {
      "cell_type": "markdown",
      "metadata": {
        "id": "38VodSfnJDV3",
        "colab_type": "text"
      },
      "source": [
        "### Preenchimento das colunas com atributos ausentes"
      ]
    },
    {
      "cell_type": "code",
      "metadata": {
        "id": "dMwyoXHqJCCl",
        "colab_type": "code",
        "colab": {}
      },
      "source": [
        "train.loc[train[\"TP_ENSINO\"].isna(), \"TP_ENSINO\"] = 1\n",
        "train.loc[train[\"TP_ENSINO\"].isna(), \"TP_ENSINO\"] = 1\n",
        "train.loc[train[\"NU_NOTA_MT\"].isna(), \"NU_NOTA_MT\"] = 0\n",
        "train.loc[train[\"NU_NOTA_COMP1\"].isna(), \"NU_NOTA_COMP1\"] = 0\n",
        "train.loc[train[\"NU_NOTA_COMP2\"].isna(), \"NU_NOTA_COMP2\"] = 0\n",
        "train.loc[train[\"NU_NOTA_COMP3\"].isna(), \"NU_NOTA_COMP3\"] = 0\n",
        "train.loc[train[\"NU_NOTA_COMP4\"].isna(), \"NU_NOTA_COMP4\"] = 0\n",
        "train.loc[train[\"NU_NOTA_COMP5\"].isna(), \"NU_NOTA_COMP5\"] = 0\n",
        "\n",
        "train.loc[train[\"NU_NOTA_REDACAO\"].isna(), \"NU_NOTA_REDACAO\"] = 0\n",
        "train.loc[train[\"NU_NOTA_LC\"].isna(), \"NU_NOTA_LC\"] = 0\n",
        "train.loc[train[\"NU_NOTA_CH\"].isna(), \"NU_NOTA_CH\"] = 0\n",
        "train.loc[train[\"NU_NOTA_CN\"].isna(), \"NU_NOTA_CN\"] = 0\n"
      ],
      "execution_count": null,
      "outputs": []
    },
    {
      "cell_type": "code",
      "metadata": {
        "id": "hhhW1UYSdU2v",
        "colab_type": "code",
        "colab": {
          "base_uri": "https://localhost:8080/",
          "height": 277
        },
        "outputId": "1288ad74-d46b-4d87-9ec7-684afe813dcb"
      },
      "source": [
        "train.isnull().sum()"
      ],
      "execution_count": null,
      "outputs": [
        {
          "output_type": "execute_result",
          "data": {
            "text/plain": [
              "NU_IDADE           0\n",
              "TP_ST_CONCLUSAO    0\n",
              "TP_ANO_CONCLUIU    0\n",
              "TP_ESCOLA          0\n",
              "TP_ENSINO          0\n",
              "NU_NOTA_MT         0\n",
              "NU_NOTA_COMP1      0\n",
              "NU_NOTA_COMP2      0\n",
              "NU_NOTA_COMP4      0\n",
              "NU_NOTA_COMP5      0\n",
              "NU_NOTA_COMP3      0\n",
              "NU_NOTA_REDACAO    0\n",
              "NU_NOTA_LC         0\n",
              "NU_NOTA_CH         0\n",
              "NU_NOTA_CN         0\n",
              "dtype: int64"
            ]
          },
          "metadata": {
            "tags": []
          },
          "execution_count": 67
        }
      ]
    },
    {
      "cell_type": "markdown",
      "metadata": {
        "id": "onxgfpB7HpAP",
        "colab_type": "text"
      },
      "source": [
        "### Separação da base de treino\n"
      ]
    },
    {
      "cell_type": "code",
      "metadata": {
        "id": "cnZLGAyzAueA",
        "colab_type": "code",
        "colab": {}
      },
      "source": [
        "label = train['NU_NOTA_MT']\n",
        "# Exclusão da coluna alvo do conjunto de treino\n",
        "del train[\"NU_NOTA_MT\"]\n",
        "\n",
        "X_train, X_test, y_train, y_test = train_test_split(train, label, test_size=0.2, random_state = 0)"
      ],
      "execution_count": null,
      "outputs": []
    },
    {
      "cell_type": "markdown",
      "metadata": {
        "id": "MdYn_j3JJZXA",
        "colab_type": "text"
      },
      "source": [
        "### Execução dos algoritmos no conjunto de treino"
      ]
    },
    {
      "cell_type": "code",
      "metadata": {
        "id": "mA3DWS0XOeAn",
        "colab_type": "code",
        "colab": {
          "base_uri": "https://localhost:8080/",
          "height": 50
        },
        "outputId": "3b290098-9bef-4d5f-b874-6a0ac0fc8fc9"
      },
      "source": [
        "algorithms = [LinearRegression(), XGBRegressor(objective='reg:squarederror', n_estimators=200, learning_rate=0.1)]\n",
        "\n",
        "best_acc = 0\n",
        "for i, alg in enumerate(algorithms):\n",
        "    alg.fit(X_train, y_train)\n",
        "    acc = alg.score(X_train, y_train)\n",
        "\n",
        "    if acc > best_acc:\n",
        "        best_acc = acc\n",
        "        best_alg = i\n",
        "    \n",
        "    print(alg.__class__.__name__ + ' ' + str(acc*100))\n",
        "    # pred = alg.predict()"
      ],
      "execution_count": null,
      "outputs": [
        {
          "output_type": "stream",
          "text": [
            "LinearRegression 90.28762129645939\n",
            "XGBRegressor 93.16949391520394\n"
          ],
          "name": "stdout"
        }
      ]
    },
    {
      "cell_type": "markdown",
      "metadata": {
        "id": "JxaI3eW5PgbA",
        "colab_type": "text"
      },
      "source": [
        "### Execução do melhor algoritmo no conjunto de teste\n"
      ]
    },
    {
      "cell_type": "code",
      "metadata": {
        "id": "dlx6S9n6PeU3",
        "colab_type": "code",
        "colab": {}
      },
      "source": [
        "alg = algorithms[best_alg]\n",
        "alg.fit(train, label)\n",
        "pred = alg.predict(test)"
      ],
      "execution_count": null,
      "outputs": []
    },
    {
      "cell_type": "markdown",
      "metadata": {
        "id": "Ksi3w8kCRcDb",
        "colab_type": "text"
      },
      "source": [
        "### Escrita do arquivo de saída"
      ]
    },
    {
      "cell_type": "code",
      "metadata": {
        "id": "F1WtZoudKcVJ",
        "colab_type": "code",
        "colab": {}
      },
      "source": [
        "resp[\"NU_NOTA_MT\"] = pred\n",
        "resp.to_csv(\"Notas.csv\", index=False)"
      ],
      "execution_count": null,
      "outputs": []
    }
  ]
}
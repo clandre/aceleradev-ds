{
 "cells": [
  {
   "cell_type": "markdown",
   "metadata": {
    "colab_type": "text",
    "id": "f8Aefk1wNjtI"
   },
   "source": [
    "### Importação das bibliotecas"
   ]
  },
  {
   "cell_type": "code",
   "execution_count": 25,
   "metadata": {
    "colab": {},
    "colab_type": "code",
    "id": "gx6Ahnjx_CQ7"
   },
   "outputs": [],
   "source": [
    "import numpy as np\n",
    "import pandas as pd\n",
    "import matplotlib.pyplot as plt\n",
    "from sklearn.linear_model import LogisticRegression\n",
    "from sklearn import preprocessing\n",
    "from sklearn.model_selection import train_test_split"
   ]
  },
  {
   "cell_type": "markdown",
   "metadata": {
    "colab_type": "text",
    "id": "AUSgvjXlA5zX"
   },
   "source": [
    "### Carregamento dos arquivos"
   ]
  },
  {
   "cell_type": "code",
   "execution_count": 26,
   "metadata": {
    "colab": {},
    "colab_type": "code",
    "id": "bZpaO7I1AuWt"
   },
   "outputs": [],
   "source": [
    "train = pd.read_csv(\"train.csv\")\n",
    "test = pd.read_csv(\"test.csv\")"
   ]
  },
  {
   "cell_type": "markdown",
   "metadata": {
    "colab_type": "text",
    "id": "nwTCGaKfT-3O"
   },
   "source": [
    "### Criação do DataFrame de saída"
   ]
  },
  {
   "cell_type": "code",
   "execution_count": 27,
   "metadata": {
    "colab": {},
    "colab_type": "code",
    "id": "TQSkw9z8T9bD"
   },
   "outputs": [],
   "source": [
    "resp = pd.DataFrame(columns=[\"NU_INSCRICAO\", \"IN_TREINEIRO\"])\n",
    "resp[\"NU_INSCRICAO\"] = test[\"NU_INSCRICAO\"]"
   ]
  },
  {
   "cell_type": "markdown",
   "metadata": {
    "colab_type": "text",
    "id": "Mfanf07vBKIW"
   },
   "source": [
    "### Seleção dos atributos mais \"importantes\""
   ]
  },
  {
   "cell_type": "code",
   "execution_count": 28,
   "metadata": {
    "colab": {},
    "colab_type": "code",
    "id": "1Rp_0UdKBMPf"
   },
   "outputs": [],
   "source": [
    "novos = [ 'NU_NOTA_COMP1', 'NU_NOTA_COMP2', 'NU_NOTA_COMP4', 'NU_NOTA_COMP5', 'NU_NOTA_COMP3', 'NU_NOTA_REDACAO', 'NU_NOTA_LC', 'NU_NOTA_CH', 'NU_NOTA_CN',]\n",
    "attributes_1 = [\"NU_IDADE\", \"TP_ST_CONCLUSAO\", \"TP_ANO_CONCLUIU\", \"TP_ESCOLA\", \"TP_ENSINO\", \"IN_TREINEIRO\"] + novos\n",
    "attributes_2 = [\"NU_IDADE\", \"TP_ST_CONCLUSAO\", \"TP_ANO_CONCLUIU\", \"TP_ESCOLA\", \"TP_ENSINO\"] + novos\n",
    "\n",
    "# Seleção das colunas\n",
    "train = train[attributes_1]\n",
    "test = test[attributes_2]"
   ]
  },
  {
   "cell_type": "markdown",
   "metadata": {
    "colab_type": "text",
    "id": "38VodSfnJDV3"
   },
   "source": [
    "### Preenchimento das colunas com atributos ausentes"
   ]
  },
  {
   "cell_type": "code",
   "execution_count": 29,
   "metadata": {},
   "outputs": [],
   "source": [
    "def fillna(df):\n",
    "    updated_df = df.copy()\n",
    "    \n",
    "    updated_df.loc[updated_df[\"TP_ENSINO\"].isna(), \"TP_ENSINO\"] = 1\n",
    "    updated_df.loc[updated_df[\"NU_NOTA_COMP1\"].isna(), \"NU_NOTA_COMP1\"] = 0\n",
    "    updated_df.loc[updated_df[\"NU_NOTA_COMP2\"].isna(), \"NU_NOTA_COMP2\"] = 0\n",
    "    updated_df.loc[updated_df[\"NU_NOTA_COMP3\"].isna(), \"NU_NOTA_COMP3\"] = 0\n",
    "    updated_df.loc[updated_df[\"NU_NOTA_COMP4\"].isna(), \"NU_NOTA_COMP4\"] = 0\n",
    "    updated_df.loc[updated_df[\"NU_NOTA_COMP5\"].isna(), \"NU_NOTA_COMP5\"] = 0\n",
    "\n",
    "    updated_df.loc[updated_df[\"NU_NOTA_REDACAO\"].isna(), \"NU_NOTA_REDACAO\"] = 0\n",
    "    updated_df.loc[updated_df[\"NU_NOTA_LC\"].isna(), \"NU_NOTA_LC\"] = 0\n",
    "    updated_df.loc[updated_df[\"NU_NOTA_CH\"].isna(), \"NU_NOTA_CH\"] = 0\n",
    "    updated_df.loc[updated_df[\"NU_NOTA_CN\"].isna(), \"NU_NOTA_CN\"] = 0\n",
    "    \n",
    "    return updated_df"
   ]
  },
  {
   "cell_type": "code",
   "execution_count": 30,
   "metadata": {
    "colab": {},
    "colab_type": "code",
    "id": "dMwyoXHqJCCl"
   },
   "outputs": [],
   "source": [
    "# train.loc[train[\"TP_ENSINO\"].isna(), \"TP_ENSINO\"] = 1\n",
    "# train.loc[train[\"NU_NOTA_COMP1\"].isna(), \"NU_NOTA_COMP1\"] = 0\n",
    "# train.loc[train[\"NU_NOTA_COMP2\"].isna(), \"NU_NOTA_COMP2\"] = 0\n",
    "# train.loc[train[\"NU_NOTA_COMP3\"].isna(), \"NU_NOTA_COMP3\"] = 0\n",
    "# train.loc[train[\"NU_NOTA_COMP4\"].isna(), \"NU_NOTA_COMP4\"] = 0\n",
    "# train.loc[train[\"NU_NOTA_COMP5\"].isna(), \"NU_NOTA_COMP5\"] = 0\n",
    "\n",
    "# train.loc[train[\"NU_NOTA_REDACAO\"].isna(), \"NU_NOTA_REDACAO\"] = 0\n",
    "# train.loc[train[\"NU_NOTA_LC\"].isna(), \"NU_NOTA_LC\"] = 0\n",
    "# train.loc[train[\"NU_NOTA_CH\"].isna(), \"NU_NOTA_CH\"] = 0\n",
    "# train.loc[train[\"NU_NOTA_CN\"].isna(), \"NU_NOTA_CN\"] = 0\n"
   ]
  },
  {
   "cell_type": "code",
   "execution_count": 31,
   "metadata": {},
   "outputs": [],
   "source": [
    "train = fillna(train)\n",
    "test = fillna(test)"
   ]
  },
  {
   "cell_type": "code",
   "execution_count": 32,
   "metadata": {
    "colab": {
     "base_uri": "https://localhost:8080/",
     "height": 277
    },
    "colab_type": "code",
    "id": "hhhW1UYSdU2v",
    "outputId": "1288ad74-d46b-4d87-9ec7-684afe813dcb"
   },
   "outputs": [
    {
     "data": {
      "text/plain": [
       "NU_IDADE           0\n",
       "TP_ST_CONCLUSAO    0\n",
       "TP_ANO_CONCLUIU    0\n",
       "TP_ESCOLA          0\n",
       "TP_ENSINO          0\n",
       "IN_TREINEIRO       0\n",
       "NU_NOTA_COMP1      0\n",
       "NU_NOTA_COMP2      0\n",
       "NU_NOTA_COMP4      0\n",
       "NU_NOTA_COMP5      0\n",
       "NU_NOTA_COMP3      0\n",
       "NU_NOTA_REDACAO    0\n",
       "NU_NOTA_LC         0\n",
       "NU_NOTA_CH         0\n",
       "NU_NOTA_CN         0\n",
       "dtype: int64"
      ]
     },
     "execution_count": 32,
     "metadata": {},
     "output_type": "execute_result"
    }
   ],
   "source": [
    "train.isnull().sum()"
   ]
  },
  {
   "cell_type": "code",
   "execution_count": 33,
   "metadata": {},
   "outputs": [
    {
     "data": {
      "text/plain": [
       "NU_IDADE           0\n",
       "TP_ST_CONCLUSAO    0\n",
       "TP_ANO_CONCLUIU    0\n",
       "TP_ESCOLA          0\n",
       "TP_ENSINO          0\n",
       "NU_NOTA_COMP1      0\n",
       "NU_NOTA_COMP2      0\n",
       "NU_NOTA_COMP4      0\n",
       "NU_NOTA_COMP5      0\n",
       "NU_NOTA_COMP3      0\n",
       "NU_NOTA_REDACAO    0\n",
       "NU_NOTA_LC         0\n",
       "NU_NOTA_CH         0\n",
       "NU_NOTA_CN         0\n",
       "dtype: int64"
      ]
     },
     "execution_count": 33,
     "metadata": {},
     "output_type": "execute_result"
    }
   ],
   "source": [
    "test.isnull().sum()"
   ]
  },
  {
   "cell_type": "markdown",
   "metadata": {
    "colab_type": "text",
    "id": "onxgfpB7HpAP"
   },
   "source": [
    "### Separação da base de treino\n"
   ]
  },
  {
   "cell_type": "code",
   "execution_count": 34,
   "metadata": {
    "colab": {},
    "colab_type": "code",
    "id": "cnZLGAyzAueA"
   },
   "outputs": [],
   "source": [
    "label = train['IN_TREINEIRO']\n",
    "# Exclusão da coluna alvo do conjunto de treino\n",
    "del train[\"IN_TREINEIRO\"]\n",
    "\n",
    "X_train, X_test, y_train, y_test = train_test_split(train, label, test_size=0.2, random_state = 0)"
   ]
  },
  {
   "cell_type": "markdown",
   "metadata": {
    "colab_type": "text",
    "id": "MdYn_j3JJZXA"
   },
   "source": [
    "### Execução dos algoritmos no conjunto de treino"
   ]
  },
  {
   "cell_type": "code",
   "execution_count": 35,
   "metadata": {
    "colab": {
     "base_uri": "https://localhost:8080/",
     "height": 50
    },
    "colab_type": "code",
    "id": "mA3DWS0XOeAn",
    "outputId": "3b290098-9bef-4d5f-b874-6a0ac0fc8fc9"
   },
   "outputs": [
    {
     "name": "stdout",
     "output_type": "stream",
     "text": [
      "LogisticRegression 95.98506919155135\n"
     ]
    },
    {
     "name": "stderr",
     "output_type": "stream",
     "text": [
      "C:\\Users\\Tamires\\anaconda3\\lib\\site-packages\\sklearn\\linear_model\\_logistic.py:940: ConvergenceWarning: lbfgs failed to converge (status=1):\n",
      "STOP: TOTAL NO. of ITERATIONS REACHED LIMIT.\n",
      "\n",
      "Increase the number of iterations (max_iter) or scale the data as shown in:\n",
      "    https://scikit-learn.org/stable/modules/preprocessing.html\n",
      "Please also refer to the documentation for alternative solver options:\n",
      "    https://scikit-learn.org/stable/modules/linear_model.html#logistic-regression\n",
      "  extra_warning_msg=_LOGISTIC_SOLVER_CONVERGENCE_MSG)\n"
     ]
    }
   ],
   "source": [
    "algorithms = [LogisticRegression()]\n",
    "\n",
    "best_acc = 0\n",
    "for i, alg in enumerate(algorithms):\n",
    "    alg.fit(X_train, y_train)\n",
    "    acc = alg.score(X_train, y_train)\n",
    "\n",
    "    if acc > best_acc:\n",
    "        best_acc = acc\n",
    "        best_alg = i\n",
    "    \n",
    "    print(alg.__class__.__name__ + ' ' + str(acc*100))\n",
    "    # pred = alg.predict()"
   ]
  },
  {
   "cell_type": "markdown",
   "metadata": {
    "colab_type": "text",
    "id": "JxaI3eW5PgbA"
   },
   "source": [
    "### Execução do melhor algoritmo no conjunto de teste\n"
   ]
  },
  {
   "cell_type": "code",
   "execution_count": 36,
   "metadata": {
    "colab": {},
    "colab_type": "code",
    "id": "dlx6S9n6PeU3"
   },
   "outputs": [
    {
     "name": "stderr",
     "output_type": "stream",
     "text": [
      "C:\\Users\\Tamires\\anaconda3\\lib\\site-packages\\sklearn\\linear_model\\_logistic.py:940: ConvergenceWarning: lbfgs failed to converge (status=1):\n",
      "STOP: TOTAL NO. of ITERATIONS REACHED LIMIT.\n",
      "\n",
      "Increase the number of iterations (max_iter) or scale the data as shown in:\n",
      "    https://scikit-learn.org/stable/modules/preprocessing.html\n",
      "Please also refer to the documentation for alternative solver options:\n",
      "    https://scikit-learn.org/stable/modules/linear_model.html#logistic-regression\n",
      "  extra_warning_msg=_LOGISTIC_SOLVER_CONVERGENCE_MSG)\n"
     ]
    }
   ],
   "source": [
    "alg = algorithms[best_alg]\n",
    "alg.fit(train, label)\n",
    "pred = alg.predict(test)"
   ]
  },
  {
   "cell_type": "markdown",
   "metadata": {
    "colab_type": "text",
    "id": "Ksi3w8kCRcDb"
   },
   "source": [
    "### Escrita do arquivo de saída"
   ]
  },
  {
   "cell_type": "code",
   "execution_count": 37,
   "metadata": {
    "colab": {},
    "colab_type": "code",
    "id": "F1WtZoudKcVJ"
   },
   "outputs": [],
   "source": [
    "resp[\"IN_TREINEIRO\"] = pred\n",
    "resp.to_csv(\"answer.csv\", index=False)"
   ]
  },
  {
   "cell_type": "code",
   "execution_count": null,
   "metadata": {},
   "outputs": [],
   "source": []
  }
 ],
 "metadata": {
  "colab": {
   "collapsed_sections": [],
   "name": "Desafio Codenation.ipynb",
   "provenance": []
  },
  "kernelspec": {
   "display_name": "Python 3",
   "language": "python",
   "name": "python3"
  },
  "language_info": {
   "codemirror_mode": {
    "name": "ipython",
    "version": 3
   },
   "file_extension": ".py",
   "mimetype": "text/x-python",
   "name": "python",
   "nbconvert_exporter": "python",
   "pygments_lexer": "ipython3",
   "version": "3.7.6"
  }
 },
 "nbformat": 4,
 "nbformat_minor": 1
}
